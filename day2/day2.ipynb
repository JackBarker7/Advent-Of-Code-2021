{
 "cells": [
  {
   "cell_type": "code",
   "execution_count": 28,
   "metadata": {},
   "outputs": [],
   "source": [
    "with open(\"input.txt\", \"r\") as f:\n",
    "    data = [(i.split(\" \")[0], int(i.split(\" \")[1])) for i in f.read().split(\"\\n\")]"
   ]
  },
  {
   "cell_type": "markdown",
   "metadata": {},
   "source": [
    "# Part 1 Method 1: Pandas"
   ]
  },
  {
   "cell_type": "code",
   "execution_count": 35,
   "metadata": {},
   "outputs": [
    {
     "name": "stdout",
     "output_type": "stream",
     "text": [
      "             amount\n",
      "instruction        \n",
      "down            911\n",
      "forward        1991\n"
     ]
    },
    {
     "data": {
      "text/plain": [
       "1813801"
      ]
     },
     "execution_count": 35,
     "metadata": {},
     "output_type": "execute_result"
    }
   ],
   "source": [
    "import pandas as pd\n",
    "import numpy as np\n",
    "df = pd.DataFrame(data, columns=[\"instruction\", \"amount\"])\n",
    "def fix_up_values(r):\n",
    "    #make all \"up\" instructions negative\n",
    "    if r.instruction==\"up\":\n",
    "        r.amount = -r.amount\n",
    "        r.instruction = \"down\"\n",
    "    return r\n",
    "\n",
    "df = df.apply(fix_up_values, axis=1)\n",
    "ans = df.groupby(\"instruction\").sum()\n",
    "print(ans)\n",
    "np.prod(ans.amount.values)"
   ]
  },
  {
   "cell_type": "markdown",
   "metadata": {},
   "source": [
    "# Part 1 Method 2 - Reduce"
   ]
  },
  {
   "cell_type": "code",
   "execution_count": 62,
   "metadata": {},
   "outputs": [
    {
     "name": "stdout",
     "output_type": "stream",
     "text": [
      "(1991, 911)\n",
      "1813801\n"
     ]
    }
   ],
   "source": [
    "from functools import reduce\n",
    "\n",
    "def fix_up_values(instruction):\n",
    "    #make all \"up\" instructions negative\n",
    "    if instruction[0] == \"up\":\n",
    "        instruction = (\"down\", -instruction[1])\n",
    "    return instruction\n",
    "instructions = list(map(fix_up_values, data))\n",
    "instructions\n",
    "#format of cumulator: (horizontal, depth)\n",
    "ans = reduce(lambda cum, val: (cum[0], int(cum[1])+val[1]) if val[0]==\"down\" else (int(cum[0])+val[1], cum[1]), instructions, (0,0))\n",
    "print(ans)\n",
    "print(np.prod(ans))\n"
   ]
  },
  {
   "cell_type": "markdown",
   "metadata": {},
   "source": [
    "# Part 2"
   ]
  },
  {
   "cell_type": "code",
   "execution_count": 64,
   "metadata": {},
   "outputs": [
    {
     "name": "stdout",
     "output_type": "stream",
     "text": [
      "(1991, 984716, 911)\n",
      "1960569556\n"
     ]
    }
   ],
   "source": [
    "def get_aim_values(instruction):\n",
    "    r1 = instruction[1]\n",
    "    r0 = \"forward\"\n",
    "    if instruction[0] != \"forward\":\n",
    "        if instruction[0] == \"up\":\n",
    "            r1 = -instruction[1]\n",
    "        r0 = \"aim\"\n",
    "    return (r0,r1)\n",
    "instructions = list(map(get_aim_values, data))\n",
    "\n",
    "#format of cumulator: (horizontal, depth, aim)\n",
    "ans = reduce(lambda cum, val: (cum[0], cum[1], int(cum[2])+val[1]) if val[0]==\"aim\" else (int(cum[0])+val[1], int(cum[1])+int(cum[2])*val[1], int(cum[2])), instructions, (0,0,0))\n",
    "print(ans)\n",
    "print(np.prod(ans[:2]))"
   ]
  }
 ],
 "metadata": {
  "interpreter": {
   "hash": "ac59ebe37160ed0dfa835113d9b8498d9f09ceb179beaac4002f036b9467c963"
  },
  "kernelspec": {
   "display_name": "Python 3.9.7 64-bit",
   "language": "python",
   "name": "python3"
  },
  "language_info": {
   "codemirror_mode": {
    "name": "ipython",
    "version": 3
   },
   "file_extension": ".py",
   "mimetype": "text/x-python",
   "name": "python",
   "nbconvert_exporter": "python",
   "pygments_lexer": "ipython3",
   "version": "3.9.7"
  },
  "orig_nbformat": 4
 },
 "nbformat": 4,
 "nbformat_minor": 2
}
